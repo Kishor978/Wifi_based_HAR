{
 "cells": [
  {
   "cell_type": "code",
   "execution_count": 1,
   "metadata": {},
   "outputs": [],
   "source": [
    "import numpy as np\n",
    "import pandas as pd\n",
    "import ast"
   ]
  },
  {
   "cell_type": "code",
   "execution_count": 2,
   "metadata": {},
   "outputs": [],
   "source": [
    "def process_csi_data(input_csv, final_csv):\n",
    "    # Load the CSV file\n",
    "    df = pd.read_csv(input_csv)\n",
    "\n",
    "    amplitude_list = []\n",
    "    phase_list = []\n",
    "\n",
    "    for csi_raw in df['CSI_DATA']:\n",
    "        # Convert CSI string to list of integers\n",
    "        format_str = csi_raw.replace(' ', ',')\n",
    "        csi_values = ast.literal_eval(format_str)\n",
    "        # Remove first 12 and last 12 points\n",
    "        csi_values = csi_values[12:-10]\n",
    "        del csi_values[52:54]\n",
    "        # print(csi_values)\n",
    "\n",
    "        # Separate imaginary and real parts\n",
    "        imag = np.array(csi_values[0::2])  # Even indices\n",
    "        real = np.array(csi_values[1::2])  # Odd indices\n",
    "       \n",
    "        # Compute amplitude and phase\n",
    "        amplitude = np.sqrt(real**2 + imag**2)\n",
    "        phase = np.arctan2(imag, real)\n",
    "\n",
    "        amplitude_list.append(amplitude.tolist())\n",
    "        phase_list.append(phase.tolist())\n",
    "\n",
    "    # Create the DataFrame with amplitude and phase data\n",
    "    output_df = pd.DataFrame({\n",
    "        'Amplitude': amplitude_list,\n",
    "        'Phase': phase_list\n",
    "    })\n",
    "\n",
    "    # Apply transformation to clean data\n",
    "    cleaned_rows = []\n",
    "    for _, row in output_df.iterrows():\n",
    "        cleaned_row_1 = row['Amplitude']\n",
    "        cleaned_row_2 = row['Phase']\n",
    "\n",
    "        # Combine both columns' cleaned values\n",
    "        cleaned_rows.append(cleaned_row_1 + cleaned_row_2)\n",
    "\n",
    "    # Convert to final DataFrame\n",
    "    final_df = pd.DataFrame(cleaned_rows)\n",
    "\n",
    "    # Save the final cleaned data to a CSV file\n",
    "    final_df.to_csv(final_csv, index=False, header=False)\n",
    "\n",
    "    print(f\"Processing complete. Final output saved to {final_csv}\")\n",
    "\n"
   ]
  },
  {
   "cell_type": "code",
   "execution_count": null,
   "metadata": {},
   "outputs": [
    {
     "name": "stdout",
     "output_type": "stream",
     "text": [
      "Processing complete. Final output saved to .\\processed_data\\kishor_jumping.csv\n",
      "Processing complete. Final output saved to .\\processed_data\\nabin_jumping.csv\n",
      "Processing complete. Final output saved to .\\processed_data\\mahesh_jumping.csv\n",
      "Processing complete. Final output saved to .\\processed_data\\kishor_walking.csv\n",
      "Processing complete. Final output saved to .\\processed_data\\_walking.csv\n",
      "Processing complete. Final output saved to .\\processed_data\\mahesh_walking.csv\n"
     ]
    }
   ],
   "source": [
    "process_csi_data(\".\\\\collage_data\\\\kishor_jumping.csv\", \".\\\\processed_data\\\\kishor_jumping.csv\")\n",
    "process_csi_data(\".\\\\collage_data\\\\nabin_jumping.csv\", \".\\\\processed_data\\\\nabin_jumping.csv\")\n",
    "process_csi_data(\".\\\\collage_data\\\\mahesh_jumping.csv\", \".\\\\processed_data\\\\mahesh_jumping.csv\")\n",
    "\n",
    "process_csi_data(\".\\\\collage_data\\\\kishor_walking.csv\", \".\\\\processed_data\\\\kishor_walking.csv\")\n",
    "process_csi_data(\".\\\\collage_data\\\\nabin_walking.csv\", \".\\\\processed_data\\\\nabin_walking.csv\")\n",
    "process_csi_data(\".\\\\collage_data\\\\mahesh_walking.csv\", \".\\\\processed_data\\\\mahesh_walking.csv\")\n"
   ]
  },
  {
   "cell_type": "code",
   "execution_count": 4,
   "metadata": {},
   "outputs": [
    {
     "name": "stdout",
     "output_type": "stream",
     "text": [
      "Processing complete. Final output saved to .\\processed_data\\kishor_standing.csv\n",
      "Processing complete. Final output saved to .\\processed_data\\nabin_standing.csv\n",
      "Processing complete. Final output saved to .\\processed_data\\mahesh_standing.csv\n"
     ]
    }
   ],
   "source": [
    "process_csi_data(\".\\\\collage_data\\\\kishor_standing.csv\", \".\\\\processed_data\\\\kishor_standing.csv\")\n",
    "process_csi_data(\".\\\\collage_data\\\\nabin_standing.csv\", \".\\\\processed_data\\\\nabin_standing.csv\")\n",
    "process_csi_data(\".\\\\collage_data\\\\mahesh_standing.csv\", \".\\\\processed_data\\\\mahesh_standing.csv\")\n"
   ]
  },
  {
   "cell_type": "code",
   "execution_count": 7,
   "metadata": {},
   "outputs": [
    {
     "name": "stdout",
     "output_type": "stream",
     "text": [
      "Processing complete. Final output saved to .\\processed_data\\no_activity.csv\n"
     ]
    }
   ],
   "source": [
    "process_csi_data(\".\\\\collage_data\\\\no_activity.csv\", \".\\\\processed_data\\\\no_activity.csv\")"
   ]
  },
  {
   "cell_type": "code",
   "execution_count": 2,
   "metadata": {},
   "outputs": [],
   "source": [
    "def create_new_csv(input_file, output_file, from_rows,additional_rows):\n",
    "    \"\"\"\n",
    "    Reads a CSV file and creates a new CSV from rows 1000 to (1000 + additional_rows).\n",
    "    \n",
    "    :param input_file: Path to the input CSV file.\n",
    "    :param output_file: Path to the output CSV file.\n",
    "    :param additional_rows: Number of rows to include after the 1000th row.\n",
    "    \"\"\"\n",
    "    try:\n",
    "        # Read the CSV file\n",
    "        df = pd.read_csv(input_file)\n",
    "        \n",
    "        # Select the required range of rows\n",
    "        new_df = df.iloc[from_rows:from_rows + additional_rows-1]\n",
    "        \n",
    "        # Save the new DataFrame to a new CSV file\n",
    "        new_df.to_csv(output_file, index=False)\n",
    "        print(f\"New CSV file created: {output_file}\")\n",
    "    except Exception as e:\n",
    "        print(f\"Error: {e}\")\n",
    "\n"
   ]
  },
  {
   "cell_type": "code",
   "execution_count": 8,
   "metadata": {},
   "outputs": [
    {
     "name": "stdout",
     "output_type": "stream",
     "text": [
      "New CSV file created: .\\processed_data\\test\\no_activity.csv\n",
      "New CSV file created: .\\processed_data\\test\\kishor_jumping.csv\n",
      "New CSV file created: .\\processed_data\\test\\nabin_jumping.csv\n",
      "New CSV file created: .\\processed_data\\test\\mahesh_jumping.csv\n",
      "New CSV file created: .\\processed_data\\test\\kishor_walking.csv\n",
      "New CSV file created: .\\processed_data\\test\\nabin_walking.csv\n",
      "New CSV file created: .\\processed_data\\test\\mahesh_walking.csv\n",
      "New CSV file created: .\\processed_data\\test\\kishor_standing.csv\n",
      "New CSV file created: .\\processed_data\\test\\nabin_standing.csv\n",
      "New CSV file created: .\\processed_data\\test\\mahesh_standing.csv\n"
     ]
    }
   ],
   "source": [
    "create_new_csv(\".\\\\processed_data\\\\no_activity.csv\", \".\\\\processed_data\\\\test\\\\no_activity.csv\",85000, 1500)\n",
    "\n",
    "create_new_csv(\".\\\\processed_data\\\\kishor_jumping.csv\", \".\\\\processed_data\\\\test\\\\kishor_jumping.csv\",30500,500)\n",
    "create_new_csv(\".\\\\processed_data\\\\nabin_jumping.csv\", \".\\\\processed_data\\\\test\\\\nabin_jumping.csv\",30500,500)\n",
    "create_new_csv(\".\\\\processed_data\\\\mahesh_jumping.csv\", \".\\\\processed_data\\\\test\\\\mahesh_jumping.csv\",30500,500)\n",
    "\n",
    "create_new_csv(\".\\\\processed_data\\\\kishor_walking.csv\", \".\\\\processed_data\\\\test\\\\kishor_walking.csv\",30500,500)\n",
    "create_new_csv(\".\\\\processed_data\\\\nabin_walking.csv\", \".\\\\processed_data\\\\test\\\\nabin_walking.csv\",30500,500)\n",
    "create_new_csv(\".\\\\processed_data\\\\mahesh_walking.csv\", \".\\\\processed_data\\\\test\\\\mahesh_walking.csv\",30500,500)\n",
    "\n",
    "create_new_csv(\".\\\\processed_data\\\\kishor_standing.csv\", \".\\\\processed_data\\\\test\\\\kishor_standing.csv\",30500,500)\n",
    "create_new_csv(\".\\\\processed_data\\\\nabin_standing.csv\", \".\\\\processed_data\\\\test\\\\nabin_standing.csv\",30500,500)\n",
    "create_new_csv(\".\\\\processed_data\\\\mahesh_standing.csv\", \".\\\\processed_data\\\\test\\\\mahesh_standing.csv\",30500,500)"
   ]
  },
  {
   "cell_type": "code",
   "execution_count": 9,
   "metadata": {},
   "outputs": [],
   "source": [
    "def generate_labels(input_csv, label, output_csv):\n",
    "    df = pd.read_csv(input_csv)\n",
    "\n",
    "    # Get the number of rows\n",
    "    num_rows = len(df)\n",
    "    num_rows=num_rows+1\n",
    "    # Add new columns\n",
    "    new_df = pd.DataFrame({\n",
    "        \"counter\": range(0, num_rows ),\n",
    "        \"label\": [label] * num_rows\n",
    "    })\n",
    "    new_df.to_csv(output_csv, index=False, header=False)\n",
    "\n",
    "    print(f\"New CSV file created successfully with {num_rows} rows!\")\n",
    "\n"
   ]
  },
  {
   "cell_type": "code",
   "execution_count": 10,
   "metadata": {},
   "outputs": [
    {
     "name": "stdout",
     "output_type": "stream",
     "text": [
      "New CSV file created successfully with 1500 rows!\n",
      "New CSV file created successfully with 500 rows!\n",
      "New CSV file created successfully with 500 rows!\n",
      "New CSV file created successfully with 500 rows!\n",
      "New CSV file created successfully with 500 rows!\n",
      "New CSV file created successfully with 500 rows!\n",
      "New CSV file created successfully with 500 rows!\n",
      "New CSV file created successfully with 500 rows!\n",
      "New CSV file created successfully with 500 rows!\n",
      "New CSV file created successfully with 500 rows!\n"
     ]
    }
   ],
   "source": [
    "generate_labels(\".\\\\processed_data\\\\test\\\\no_activity.csv\",\"no_person\" ,\".\\\\processed_data\\\\test\\\\no_activity_label.csv\")\n",
    "\n",
    "generate_labels(\".\\\\processed_data\\\\test\\\\kishor_jumping.csv\",\"jumping\",\".\\\\processed_data\\\\test\\\\kishor_jumping_label.csv\")\n",
    "generate_labels(\".\\\\processed_data\\\\test\\\\nabin_jumping.csv\",\"jumping\", \".\\\\processed_data\\\\test\\\\nabin_jumping_label.csv\")\n",
    "generate_labels(\".\\\\processed_data\\\\test\\\\mahesh_jumping.csv\",\"jumping\", \".\\\\processed_data\\\\test\\\\mahesh_jumping_label.csv\")\n",
    "\n",
    "generate_labels(\".\\\\processed_data\\\\test\\\\kishor_walking.csv\",\"walking\", \".\\\\processed_data\\\\test\\\\kishor_walking_label.csv\")\n",
    "generate_labels(\".\\\\processed_data\\\\test\\\\nabin_walking.csv\",\"walking\", \".\\\\processed_data\\\\test\\\\nabin_walking_label.csv\")\n",
    "generate_labels(\".\\\\processed_data\\\\test\\\\mahesh_walking.csv\",\"walking\", \".\\\\processed_data\\\\test\\\\mahesh_walking_label.csv\")\n",
    "\n",
    "generate_labels(\".\\\\processed_data\\\\test\\\\kishor_standing.csv\",\"standing\", \".\\\\processed_data\\\\test\\\\kishor_standing_label.csv\")\n",
    "generate_labels(\".\\\\processed_data\\\\test\\\\nabin_standing.csv\",\"standing\", \".\\\\processed_data\\\\test\\\\nabin_standing_label.csv\")\n",
    "generate_labels(\".\\\\processed_data\\\\test\\\\mahesh_standing.csv\",\"standing\", \".\\\\processed_data\\\\test\\\\mahesh_standing_label.csv\")"
   ]
  },
  {
   "cell_type": "code",
   "execution_count": 11,
   "metadata": {},
   "outputs": [],
   "source": [
    "import os\n",
    "import pandas as pd\n",
    "\n",
    "def merge_csv_files(input_directory, output_data_file, output_label_file):\n",
    "    data_files = []\n",
    "    label_files = {}\n",
    "\n",
    "    # Collect all filenames and categorize them\n",
    "    for filename in sorted(os.listdir(input_directory)):  \n",
    "        if filename.endswith('.csv'):\n",
    "            file_path = os.path.join(input_directory, filename)\n",
    "            base_name = filename.replace('_label', '').replace('.csv', '')\n",
    "\n",
    "            if '_label' in filename.lower():\n",
    "                label_files[base_name] = file_path  # Store label file path\n",
    "            else:\n",
    "                data_files.append((base_name, file_path))  # Store data file path\n",
    "\n",
    "    # Ensure order is maintained by matching corresponding data and label files\n",
    "    data_frames = []\n",
    "    label_frames = []\n",
    "    counter_offset = 0\n",
    "\n",
    "    for base_name, data_path in sorted(data_files):  \n",
    "        if base_name in label_files:  # Ensure matching label file exists\n",
    "            label_path = label_files[base_name]\n",
    "\n",
    "            try:\n",
    "                # Read data CSV without headers\n",
    "                data_df = pd.read_csv(data_path, header=None, low_memory=False)\n",
    "                label_df = pd.read_csv(label_path, header=None, low_memory=False)\n",
    "                data_df = data_df.apply(pd.to_numeric, errors='coerce').fillna(0)\n",
    "\n",
    "                # Convert string numbers in data_df to actual floats\n",
    "                for col in data_df.columns:\n",
    "                    data_df[col] = data_df[col].apply(lambda x: pd.to_numeric(x, errors='coerce') if isinstance(x, str) else x)\n",
    "\n",
    "               \n",
    "                # Adjust counter in labels (assuming first column is counter)\n",
    "                if not label_df.empty and pd.api.types.is_numeric_dtype(label_df.iloc[:, 0]):\n",
    "                    label_df.iloc[:, 0] += counter_offset  # Shift counter values\n",
    "                    counter_offset = label_df.iloc[:, 0].max() or 0 + 1  # Update offset\n",
    "\n",
    "                data_frames.append(data_df)\n",
    "                label_frames.append(label_df)\n",
    "\n",
    "            except Exception as e:\n",
    "                print(f\"Error reading {data_path} or {label_path}: {e}\")\n",
    "        else:\n",
    "            print(f\"Warning: No matching label file found for {data_path}\")\n",
    "\n",
    "    # Merge and save files while preserving order\n",
    "    if data_frames:\n",
    "        merged_data = pd.concat(data_frames, axis=0, ignore_index=True)\n",
    "        merged_data.to_csv(output_data_file, index=False, header=False)\n",
    "        print(f\"Data merged into {output_data_file}\")\n",
    "    else:\n",
    "        print(\"No valid data files found.\")\n",
    "\n",
    "    if label_frames:\n",
    "        merged_labels = pd.concat(label_frames, axis=0, ignore_index=True)\n",
    "        merged_labels.to_csv(output_label_file, index=False, header=False)\n",
    "        print(f\"Labels merged into {output_label_file}\")\n",
    "    else:\n",
    "        print(\"No valid label files found.\")\n"
   ]
  },
  {
   "cell_type": "code",
   "execution_count": 12,
   "metadata": {},
   "outputs": [
    {
     "name": "stdout",
     "output_type": "stream",
     "text": [
      "Data merged into merged__test_data.csv\n",
      "Labels merged into merged_test_labels.csv\n"
     ]
    }
   ],
   "source": [
    "merge_csv_files('E:\\\\Wifi_based_HAR\\\\preprocessing\\\\processed_data\\\\test', 'merged__test_data.csv', 'merged_test_labels.csv')"
   ]
  },
  {
   "cell_type": "markdown",
   "metadata": {},
   "source": []
  },
  {
   "cell_type": "code",
   "execution_count": null,
   "metadata": {},
   "outputs": [],
   "source": []
  }
 ],
 "metadata": {
  "kernelspec": {
   "display_name": "venv",
   "language": "python",
   "name": "python3"
  },
  "language_info": {
   "codemirror_mode": {
    "name": "ipython",
    "version": 3
   },
   "file_extension": ".py",
   "mimetype": "text/x-python",
   "name": "python",
   "nbconvert_exporter": "python",
   "pygments_lexer": "ipython3",
   "version": "3.12.3"
  }
 },
 "nbformat": 4,
 "nbformat_minor": 2
}
