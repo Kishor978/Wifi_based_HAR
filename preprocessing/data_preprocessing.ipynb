{
 "cells": [
  {
   "cell_type": "code",
   "execution_count": 1,
   "metadata": {},
   "outputs": [],
   "source": [
    "import numpy as np\n",
    "import pandas as pd\n",
    "import ast\n",
    "import os"
   ]
  },
  {
   "cell_type": "code",
   "execution_count": null,
   "metadata": {},
   "outputs": [],
   "source": [
    "def process_csi_data(input_csv, final_csv):\n",
    "    # Load the CSV file\n",
    "    df = pd.read_csv(input_csv)\n",
    "\n",
    "    amplitude_list = []\n",
    "    phase_list = []\n",
    "\n",
    "    for csi_raw in df['CSI_DATA']:\n",
    "        # Convert CSI string to list of integers\n",
    "        format_str = csi_raw.replace(' ', ',')\n",
    "        csi_values = ast.literal_eval(format_str)\n",
    "        # Remove first 12 and last 12 points\n",
    "        csi_values = csi_values[12:-10]\n",
    "        del csi_values[52:54]\n",
    "        # print(csi_values)\n",
    "\n",
    "        # Separate imaginary and real parts\n",
    "        imag = np.array(csi_values[0::2])  # Even indices\n",
    "        real = np.array(csi_values[1::2])  # Odd indices\n",
    "       \n",
    "        # Compute amplitude and phase\n",
    "        amplitude = np.sqrt(real**2 + imag**2)\n",
    "        phase = np.arctan2(imag, real)\n",
    "\n",
    "        amplitude_list.append(amplitude.tolist())\n",
    "        phase_list.append(phase.tolist())\n",
    "\n",
    "    # Create the DataFrame with amplitude and phase data\n",
    "    output_df = pd.DataFrame({\n",
    "        'Amplitude': amplitude_list,\n",
    "        'Phase': phase_list\n",
    "    })\n",
    "\n",
    "    # Apply transformation to clean data\n",
    "    cleaned_rows = []\n",
    "    for _, row in output_df.iterrows():\n",
    "        cleaned_row_1 = row['Amplitude']\n",
    "        cleaned_row_2 = row['Phase']\n",
    "\n",
    "        # Combine both columns' cleaned values\n",
    "        cleaned_rows.append(cleaned_row_1 + cleaned_row_2)\n",
    "\n",
    "    # Convert to final DataFrame\n",
    "    final_df = pd.DataFrame(cleaned_rows)\n",
    "\n",
    "    # Save the final cleaned data to a CSV file\n",
    "    final_df.to_csv(final_csv, index=False, header=False)\n",
    "\n",
    "    print(f\"Processing complete. Final output saved to {final_csv}\")\n",
    "\n"
   ]
  },
  {
   "cell_type": "code",
   "execution_count": 2,
   "metadata": {},
   "outputs": [
    {
     "name": "stdout",
     "output_type": "stream",
     "text": [
      "Processing complete. Final output saved to .\\processed_data\\kishor_jumping.csv\n",
      "Processing complete. Final output saved to .\\processed_data\\nabin_jumping.csv\n",
      "Processing complete. Final output saved to .\\processed_data\\mahesh_jumping.csv\n",
      "Processing complete. Final output saved to .\\processed_data\\kishor_walking.csv\n",
      "Processing complete. Final output saved to .\\processed_data\\nabin_walking.csv\n",
      "Processing complete. Final output saved to .\\processed_data\\mahesh_walking.csv\n"
     ]
    }
   ],
   "source": [
    "process_csi_data(\".\\\\data\\\\kishor_jumping.csv\", \".\\\\processed_data\\\\kishor_jumping.csv\")\n",
    "process_csi_data(\".\\\\data\\\\nabin_jumping.csv\", \".\\\\processed_data\\\\nabin_jumping.csv\")\n",
    "process_csi_data(\".\\\\data\\\\mahesh_jumping.csv\", \".\\\\processed_data\\\\mahesh_jumping.csv\")\n",
    "\n",
    "process_csi_data(\".\\\\data\\\\kishor_walking.csv\", \".\\\\processed_data\\\\kishor_walking.csv\")\n",
    "process_csi_data(\".\\\\data\\\\nabin_walking.csv\", \".\\\\processed_data\\\\_walking.csv\")\n",
    "process_csi_data(\".\\\\data\\\\mahesh_walking.csv\", \".\\\\processed_data\\\\mahesh_walking.csv\")\n"
   ]
  },
  {
   "cell_type": "code",
   "execution_count": null,
   "metadata": {},
   "outputs": [
    {
     "name": "stdout",
     "output_type": "stream",
     "text": [
      "Processing complete. Final output saved to .\\processed_data\\kishor_standing.csv\n",
      "Processing complete. Final output saved to .\\processed_data\\nabin_standing.csv\n",
      "Processing complete. Final output saved to .\\processed_data\\mahesh_standing.csv\n"
     ]
    },
    {
     "ename": "FileNotFoundError",
     "evalue": "[Errno 2] No such file or directory: '.\\\\data\\\\no_ativity.csv'",
     "output_type": "error",
     "traceback": [
      "\u001b[1;31m---------------------------------------------------------------------------\u001b[0m",
      "\u001b[1;31mFileNotFoundError\u001b[0m                         Traceback (most recent call last)",
      "Cell \u001b[1;32mIn[4], line 4\u001b[0m\n\u001b[0;32m      2\u001b[0m process_csi_data(\u001b[38;5;124m\"\u001b[39m\u001b[38;5;124m.\u001b[39m\u001b[38;5;130;01m\\\\\u001b[39;00m\u001b[38;5;124mdata\u001b[39m\u001b[38;5;130;01m\\\\\u001b[39;00m\u001b[38;5;124mnabin_standing.csv\u001b[39m\u001b[38;5;124m\"\u001b[39m, \u001b[38;5;124m\"\u001b[39m\u001b[38;5;124m.\u001b[39m\u001b[38;5;130;01m\\\\\u001b[39;00m\u001b[38;5;124mprocessed_data\u001b[39m\u001b[38;5;130;01m\\\\\u001b[39;00m\u001b[38;5;124mnabin_standing.csv\u001b[39m\u001b[38;5;124m\"\u001b[39m)\n\u001b[0;32m      3\u001b[0m process_csi_data(\u001b[38;5;124m\"\u001b[39m\u001b[38;5;124m.\u001b[39m\u001b[38;5;130;01m\\\\\u001b[39;00m\u001b[38;5;124mdata\u001b[39m\u001b[38;5;130;01m\\\\\u001b[39;00m\u001b[38;5;124mmahesh_standing.csv\u001b[39m\u001b[38;5;124m\"\u001b[39m, \u001b[38;5;124m\"\u001b[39m\u001b[38;5;124m.\u001b[39m\u001b[38;5;130;01m\\\\\u001b[39;00m\u001b[38;5;124mprocessed_data\u001b[39m\u001b[38;5;130;01m\\\\\u001b[39;00m\u001b[38;5;124mmahesh_standing.csv\u001b[39m\u001b[38;5;124m\"\u001b[39m)\n\u001b[1;32m----> 4\u001b[0m \u001b[43mprocess_csi_data\u001b[49m\u001b[43m(\u001b[49m\u001b[38;5;124;43m\"\u001b[39;49m\u001b[38;5;124;43m.\u001b[39;49m\u001b[38;5;130;43;01m\\\\\u001b[39;49;00m\u001b[38;5;124;43mdata\u001b[39;49m\u001b[38;5;130;43;01m\\\\\u001b[39;49;00m\u001b[38;5;124;43mno_ativity.csv\u001b[39;49m\u001b[38;5;124;43m\"\u001b[39;49m\u001b[43m,\u001b[49m\u001b[43m \u001b[49m\u001b[38;5;124;43m\"\u001b[39;49m\u001b[38;5;124;43m.\u001b[39;49m\u001b[38;5;130;43;01m\\\\\u001b[39;49;00m\u001b[38;5;124;43mprocessed_data\u001b[39;49m\u001b[38;5;130;43;01m\\\\\u001b[39;49;00m\u001b[38;5;124;43mno_activity.csv\u001b[39;49m\u001b[38;5;124;43m\"\u001b[39;49m\u001b[43m)\u001b[49m\n",
      "Cell \u001b[1;32mIn[1], line 7\u001b[0m, in \u001b[0;36mprocess_csi_data\u001b[1;34m(input_csv, final_csv)\u001b[0m\n\u001b[0;32m      5\u001b[0m \u001b[38;5;28;01mdef\u001b[39;00m\u001b[38;5;250m \u001b[39m\u001b[38;5;21mprocess_csi_data\u001b[39m(input_csv, final_csv):\n\u001b[0;32m      6\u001b[0m     \u001b[38;5;66;03m# Load the CSV file\u001b[39;00m\n\u001b[1;32m----> 7\u001b[0m     df \u001b[38;5;241m=\u001b[39m \u001b[43mpd\u001b[49m\u001b[38;5;241;43m.\u001b[39;49m\u001b[43mread_csv\u001b[49m\u001b[43m(\u001b[49m\u001b[43minput_csv\u001b[49m\u001b[43m)\u001b[49m\n\u001b[0;32m      9\u001b[0m     amplitude_list \u001b[38;5;241m=\u001b[39m []\n\u001b[0;32m     10\u001b[0m     phase_list \u001b[38;5;241m=\u001b[39m []\n",
      "File \u001b[1;32me:\\Wifi_based_HAR\\venv\\Lib\\site-packages\\pandas\\io\\parsers\\readers.py:1026\u001b[0m, in \u001b[0;36mread_csv\u001b[1;34m(filepath_or_buffer, sep, delimiter, header, names, index_col, usecols, dtype, engine, converters, true_values, false_values, skipinitialspace, skiprows, skipfooter, nrows, na_values, keep_default_na, na_filter, verbose, skip_blank_lines, parse_dates, infer_datetime_format, keep_date_col, date_parser, date_format, dayfirst, cache_dates, iterator, chunksize, compression, thousands, decimal, lineterminator, quotechar, quoting, doublequote, escapechar, comment, encoding, encoding_errors, dialect, on_bad_lines, delim_whitespace, low_memory, memory_map, float_precision, storage_options, dtype_backend)\u001b[0m\n\u001b[0;32m   1013\u001b[0m kwds_defaults \u001b[38;5;241m=\u001b[39m _refine_defaults_read(\n\u001b[0;32m   1014\u001b[0m     dialect,\n\u001b[0;32m   1015\u001b[0m     delimiter,\n\u001b[1;32m   (...)\u001b[0m\n\u001b[0;32m   1022\u001b[0m     dtype_backend\u001b[38;5;241m=\u001b[39mdtype_backend,\n\u001b[0;32m   1023\u001b[0m )\n\u001b[0;32m   1024\u001b[0m kwds\u001b[38;5;241m.\u001b[39mupdate(kwds_defaults)\n\u001b[1;32m-> 1026\u001b[0m \u001b[38;5;28;01mreturn\u001b[39;00m \u001b[43m_read\u001b[49m\u001b[43m(\u001b[49m\u001b[43mfilepath_or_buffer\u001b[49m\u001b[43m,\u001b[49m\u001b[43m \u001b[49m\u001b[43mkwds\u001b[49m\u001b[43m)\u001b[49m\n",
      "File \u001b[1;32me:\\Wifi_based_HAR\\venv\\Lib\\site-packages\\pandas\\io\\parsers\\readers.py:620\u001b[0m, in \u001b[0;36m_read\u001b[1;34m(filepath_or_buffer, kwds)\u001b[0m\n\u001b[0;32m    617\u001b[0m _validate_names(kwds\u001b[38;5;241m.\u001b[39mget(\u001b[38;5;124m\"\u001b[39m\u001b[38;5;124mnames\u001b[39m\u001b[38;5;124m\"\u001b[39m, \u001b[38;5;28;01mNone\u001b[39;00m))\n\u001b[0;32m    619\u001b[0m \u001b[38;5;66;03m# Create the parser.\u001b[39;00m\n\u001b[1;32m--> 620\u001b[0m parser \u001b[38;5;241m=\u001b[39m \u001b[43mTextFileReader\u001b[49m\u001b[43m(\u001b[49m\u001b[43mfilepath_or_buffer\u001b[49m\u001b[43m,\u001b[49m\u001b[43m \u001b[49m\u001b[38;5;241;43m*\u001b[39;49m\u001b[38;5;241;43m*\u001b[39;49m\u001b[43mkwds\u001b[49m\u001b[43m)\u001b[49m\n\u001b[0;32m    622\u001b[0m \u001b[38;5;28;01mif\u001b[39;00m chunksize \u001b[38;5;129;01mor\u001b[39;00m iterator:\n\u001b[0;32m    623\u001b[0m     \u001b[38;5;28;01mreturn\u001b[39;00m parser\n",
      "File \u001b[1;32me:\\Wifi_based_HAR\\venv\\Lib\\site-packages\\pandas\\io\\parsers\\readers.py:1620\u001b[0m, in \u001b[0;36mTextFileReader.__init__\u001b[1;34m(self, f, engine, **kwds)\u001b[0m\n\u001b[0;32m   1617\u001b[0m     \u001b[38;5;28mself\u001b[39m\u001b[38;5;241m.\u001b[39moptions[\u001b[38;5;124m\"\u001b[39m\u001b[38;5;124mhas_index_names\u001b[39m\u001b[38;5;124m\"\u001b[39m] \u001b[38;5;241m=\u001b[39m kwds[\u001b[38;5;124m\"\u001b[39m\u001b[38;5;124mhas_index_names\u001b[39m\u001b[38;5;124m\"\u001b[39m]\n\u001b[0;32m   1619\u001b[0m \u001b[38;5;28mself\u001b[39m\u001b[38;5;241m.\u001b[39mhandles: IOHandles \u001b[38;5;241m|\u001b[39m \u001b[38;5;28;01mNone\u001b[39;00m \u001b[38;5;241m=\u001b[39m \u001b[38;5;28;01mNone\u001b[39;00m\n\u001b[1;32m-> 1620\u001b[0m \u001b[38;5;28mself\u001b[39m\u001b[38;5;241m.\u001b[39m_engine \u001b[38;5;241m=\u001b[39m \u001b[38;5;28;43mself\u001b[39;49m\u001b[38;5;241;43m.\u001b[39;49m\u001b[43m_make_engine\u001b[49m\u001b[43m(\u001b[49m\u001b[43mf\u001b[49m\u001b[43m,\u001b[49m\u001b[43m \u001b[49m\u001b[38;5;28;43mself\u001b[39;49m\u001b[38;5;241;43m.\u001b[39;49m\u001b[43mengine\u001b[49m\u001b[43m)\u001b[49m\n",
      "File \u001b[1;32me:\\Wifi_based_HAR\\venv\\Lib\\site-packages\\pandas\\io\\parsers\\readers.py:1880\u001b[0m, in \u001b[0;36mTextFileReader._make_engine\u001b[1;34m(self, f, engine)\u001b[0m\n\u001b[0;32m   1878\u001b[0m     \u001b[38;5;28;01mif\u001b[39;00m \u001b[38;5;124m\"\u001b[39m\u001b[38;5;124mb\u001b[39m\u001b[38;5;124m\"\u001b[39m \u001b[38;5;129;01mnot\u001b[39;00m \u001b[38;5;129;01min\u001b[39;00m mode:\n\u001b[0;32m   1879\u001b[0m         mode \u001b[38;5;241m+\u001b[39m\u001b[38;5;241m=\u001b[39m \u001b[38;5;124m\"\u001b[39m\u001b[38;5;124mb\u001b[39m\u001b[38;5;124m\"\u001b[39m\n\u001b[1;32m-> 1880\u001b[0m \u001b[38;5;28mself\u001b[39m\u001b[38;5;241m.\u001b[39mhandles \u001b[38;5;241m=\u001b[39m \u001b[43mget_handle\u001b[49m\u001b[43m(\u001b[49m\n\u001b[0;32m   1881\u001b[0m \u001b[43m    \u001b[49m\u001b[43mf\u001b[49m\u001b[43m,\u001b[49m\n\u001b[0;32m   1882\u001b[0m \u001b[43m    \u001b[49m\u001b[43mmode\u001b[49m\u001b[43m,\u001b[49m\n\u001b[0;32m   1883\u001b[0m \u001b[43m    \u001b[49m\u001b[43mencoding\u001b[49m\u001b[38;5;241;43m=\u001b[39;49m\u001b[38;5;28;43mself\u001b[39;49m\u001b[38;5;241;43m.\u001b[39;49m\u001b[43moptions\u001b[49m\u001b[38;5;241;43m.\u001b[39;49m\u001b[43mget\u001b[49m\u001b[43m(\u001b[49m\u001b[38;5;124;43m\"\u001b[39;49m\u001b[38;5;124;43mencoding\u001b[39;49m\u001b[38;5;124;43m\"\u001b[39;49m\u001b[43m,\u001b[49m\u001b[43m \u001b[49m\u001b[38;5;28;43;01mNone\u001b[39;49;00m\u001b[43m)\u001b[49m\u001b[43m,\u001b[49m\n\u001b[0;32m   1884\u001b[0m \u001b[43m    \u001b[49m\u001b[43mcompression\u001b[49m\u001b[38;5;241;43m=\u001b[39;49m\u001b[38;5;28;43mself\u001b[39;49m\u001b[38;5;241;43m.\u001b[39;49m\u001b[43moptions\u001b[49m\u001b[38;5;241;43m.\u001b[39;49m\u001b[43mget\u001b[49m\u001b[43m(\u001b[49m\u001b[38;5;124;43m\"\u001b[39;49m\u001b[38;5;124;43mcompression\u001b[39;49m\u001b[38;5;124;43m\"\u001b[39;49m\u001b[43m,\u001b[49m\u001b[43m \u001b[49m\u001b[38;5;28;43;01mNone\u001b[39;49;00m\u001b[43m)\u001b[49m\u001b[43m,\u001b[49m\n\u001b[0;32m   1885\u001b[0m \u001b[43m    \u001b[49m\u001b[43mmemory_map\u001b[49m\u001b[38;5;241;43m=\u001b[39;49m\u001b[38;5;28;43mself\u001b[39;49m\u001b[38;5;241;43m.\u001b[39;49m\u001b[43moptions\u001b[49m\u001b[38;5;241;43m.\u001b[39;49m\u001b[43mget\u001b[49m\u001b[43m(\u001b[49m\u001b[38;5;124;43m\"\u001b[39;49m\u001b[38;5;124;43mmemory_map\u001b[39;49m\u001b[38;5;124;43m\"\u001b[39;49m\u001b[43m,\u001b[49m\u001b[43m \u001b[49m\u001b[38;5;28;43;01mFalse\u001b[39;49;00m\u001b[43m)\u001b[49m\u001b[43m,\u001b[49m\n\u001b[0;32m   1886\u001b[0m \u001b[43m    \u001b[49m\u001b[43mis_text\u001b[49m\u001b[38;5;241;43m=\u001b[39;49m\u001b[43mis_text\u001b[49m\u001b[43m,\u001b[49m\n\u001b[0;32m   1887\u001b[0m \u001b[43m    \u001b[49m\u001b[43merrors\u001b[49m\u001b[38;5;241;43m=\u001b[39;49m\u001b[38;5;28;43mself\u001b[39;49m\u001b[38;5;241;43m.\u001b[39;49m\u001b[43moptions\u001b[49m\u001b[38;5;241;43m.\u001b[39;49m\u001b[43mget\u001b[49m\u001b[43m(\u001b[49m\u001b[38;5;124;43m\"\u001b[39;49m\u001b[38;5;124;43mencoding_errors\u001b[39;49m\u001b[38;5;124;43m\"\u001b[39;49m\u001b[43m,\u001b[49m\u001b[43m \u001b[49m\u001b[38;5;124;43m\"\u001b[39;49m\u001b[38;5;124;43mstrict\u001b[39;49m\u001b[38;5;124;43m\"\u001b[39;49m\u001b[43m)\u001b[49m\u001b[43m,\u001b[49m\n\u001b[0;32m   1888\u001b[0m \u001b[43m    \u001b[49m\u001b[43mstorage_options\u001b[49m\u001b[38;5;241;43m=\u001b[39;49m\u001b[38;5;28;43mself\u001b[39;49m\u001b[38;5;241;43m.\u001b[39;49m\u001b[43moptions\u001b[49m\u001b[38;5;241;43m.\u001b[39;49m\u001b[43mget\u001b[49m\u001b[43m(\u001b[49m\u001b[38;5;124;43m\"\u001b[39;49m\u001b[38;5;124;43mstorage_options\u001b[39;49m\u001b[38;5;124;43m\"\u001b[39;49m\u001b[43m,\u001b[49m\u001b[43m \u001b[49m\u001b[38;5;28;43;01mNone\u001b[39;49;00m\u001b[43m)\u001b[49m\u001b[43m,\u001b[49m\n\u001b[0;32m   1889\u001b[0m \u001b[43m\u001b[49m\u001b[43m)\u001b[49m\n\u001b[0;32m   1890\u001b[0m \u001b[38;5;28;01massert\u001b[39;00m \u001b[38;5;28mself\u001b[39m\u001b[38;5;241m.\u001b[39mhandles \u001b[38;5;129;01mis\u001b[39;00m \u001b[38;5;129;01mnot\u001b[39;00m \u001b[38;5;28;01mNone\u001b[39;00m\n\u001b[0;32m   1891\u001b[0m f \u001b[38;5;241m=\u001b[39m \u001b[38;5;28mself\u001b[39m\u001b[38;5;241m.\u001b[39mhandles\u001b[38;5;241m.\u001b[39mhandle\n",
      "File \u001b[1;32me:\\Wifi_based_HAR\\venv\\Lib\\site-packages\\pandas\\io\\common.py:873\u001b[0m, in \u001b[0;36mget_handle\u001b[1;34m(path_or_buf, mode, encoding, compression, memory_map, is_text, errors, storage_options)\u001b[0m\n\u001b[0;32m    868\u001b[0m \u001b[38;5;28;01melif\u001b[39;00m \u001b[38;5;28misinstance\u001b[39m(handle, \u001b[38;5;28mstr\u001b[39m):\n\u001b[0;32m    869\u001b[0m     \u001b[38;5;66;03m# Check whether the filename is to be opened in binary mode.\u001b[39;00m\n\u001b[0;32m    870\u001b[0m     \u001b[38;5;66;03m# Binary mode does not support 'encoding' and 'newline'.\u001b[39;00m\n\u001b[0;32m    871\u001b[0m     \u001b[38;5;28;01mif\u001b[39;00m ioargs\u001b[38;5;241m.\u001b[39mencoding \u001b[38;5;129;01mand\u001b[39;00m \u001b[38;5;124m\"\u001b[39m\u001b[38;5;124mb\u001b[39m\u001b[38;5;124m\"\u001b[39m \u001b[38;5;129;01mnot\u001b[39;00m \u001b[38;5;129;01min\u001b[39;00m ioargs\u001b[38;5;241m.\u001b[39mmode:\n\u001b[0;32m    872\u001b[0m         \u001b[38;5;66;03m# Encoding\u001b[39;00m\n\u001b[1;32m--> 873\u001b[0m         handle \u001b[38;5;241m=\u001b[39m \u001b[38;5;28;43mopen\u001b[39;49m\u001b[43m(\u001b[49m\n\u001b[0;32m    874\u001b[0m \u001b[43m            \u001b[49m\u001b[43mhandle\u001b[49m\u001b[43m,\u001b[49m\n\u001b[0;32m    875\u001b[0m \u001b[43m            \u001b[49m\u001b[43mioargs\u001b[49m\u001b[38;5;241;43m.\u001b[39;49m\u001b[43mmode\u001b[49m\u001b[43m,\u001b[49m\n\u001b[0;32m    876\u001b[0m \u001b[43m            \u001b[49m\u001b[43mencoding\u001b[49m\u001b[38;5;241;43m=\u001b[39;49m\u001b[43mioargs\u001b[49m\u001b[38;5;241;43m.\u001b[39;49m\u001b[43mencoding\u001b[49m\u001b[43m,\u001b[49m\n\u001b[0;32m    877\u001b[0m \u001b[43m            \u001b[49m\u001b[43merrors\u001b[49m\u001b[38;5;241;43m=\u001b[39;49m\u001b[43merrors\u001b[49m\u001b[43m,\u001b[49m\n\u001b[0;32m    878\u001b[0m \u001b[43m            \u001b[49m\u001b[43mnewline\u001b[49m\u001b[38;5;241;43m=\u001b[39;49m\u001b[38;5;124;43m\"\u001b[39;49m\u001b[38;5;124;43m\"\u001b[39;49m\u001b[43m,\u001b[49m\n\u001b[0;32m    879\u001b[0m \u001b[43m        \u001b[49m\u001b[43m)\u001b[49m\n\u001b[0;32m    880\u001b[0m     \u001b[38;5;28;01melse\u001b[39;00m:\n\u001b[0;32m    881\u001b[0m         \u001b[38;5;66;03m# Binary mode\u001b[39;00m\n\u001b[0;32m    882\u001b[0m         handle \u001b[38;5;241m=\u001b[39m \u001b[38;5;28mopen\u001b[39m(handle, ioargs\u001b[38;5;241m.\u001b[39mmode)\n",
      "\u001b[1;31mFileNotFoundError\u001b[0m: [Errno 2] No such file or directory: '.\\\\data\\\\no_ativity.csv'"
     ]
    }
   ],
   "source": [
    "process_csi_data(\".\\\\data\\\\kishor_standing.csv\", \".\\\\processed_data\\\\kishor_standing.csv\")\n",
    "process_csi_data(\".\\\\data\\\\nabin_standing.csv\", \".\\\\processed_data\\\\nabin_standing.csv\")\n",
    "process_csi_data(\".\\\\data\\\\mahesh_standing.csv\", \".\\\\processed_data\\\\mahesh_standing.csv\")\n"
   ]
  },
  {
   "cell_type": "code",
   "execution_count": null,
   "metadata": {},
   "outputs": [
    {
     "name": "stdout",
     "output_type": "stream",
     "text": [
      "Processing complete. Final output saved to .\\processed_data\\no_activity.csv\n"
     ]
    }
   ],
   "source": [
    "process_csi_data(\".\\\\data\\\\no_activity.csv\", \".\\\\processed_data\\\\no_activity.csv\")\n",
    "\n"
   ]
  },
  {
   "cell_type": "code",
   "execution_count": 2,
   "metadata": {},
   "outputs": [],
   "source": [
    "def create_new_csv(input_file, output_file, from_rows,additional_rows):\n",
    "    \"\"\"\n",
    "    Reads a CSV file and creates a new CSV from rows 1000 to (1000 + additional_rows).\n",
    "    \n",
    "    :param input_file: Path to the input CSV file.\n",
    "    :param output_file: Path to the output CSV file.\n",
    "    :param additional_rows: Number of rows to include after the 1000th row.\n",
    "    \"\"\"\n",
    "    try:\n",
    "        # Read the CSV file\n",
    "        df = pd.read_csv(input_file)\n",
    "        \n",
    "        # Select the required range of rows\n",
    "        new_df = df.iloc[from_rows:from_rows + additional_rows-1]\n",
    "        \n",
    "        # Save the new DataFrame to a new CSV file\n",
    "        new_df.to_csv(output_file, index=False)\n",
    "        print(f\"New CSV file created: {output_file}\")\n",
    "    except Exception as e:\n",
    "        print(f\"Error: {e}\")\n",
    "\n"
   ]
  },
  {
   "cell_type": "code",
   "execution_count": 10,
   "metadata": {},
   "outputs": [
    {
     "name": "stdout",
     "output_type": "stream",
     "text": [
      "New CSV file created: .\\processed_data\\data\\no_activity.csv\n",
      "New CSV file created: .\\processed_data\\data\\kishor_jumping.csv\n",
      "New CSV file created: .\\processed_data\\data\\nabin_jumping.csv\n",
      "New CSV file created: .\\processed_data\\data\\mahesh_jumping.csv\n",
      "New CSV file created: .\\processed_data\\data\\kishor_walking.csv\n",
      "New CSV file created: .\\processed_data\\data\\nabin_walking.csv\n",
      "New CSV file created: .\\processed_data\\data\\mahesh_walking.csv\n",
      "New CSV file created: .\\processed_data\\data\\kishor_standing.csv\n",
      "New CSV file created: .\\processed_data\\data\\nabin_standing.csv\n",
      "New CSV file created: .\\processed_data\\data\\mahesh_standing.csv\n"
     ]
    }
   ],
   "source": [
    "create_new_csv(\".\\\\processed_data\\\\no_activity.csv\", \".\\\\processed_data\\\\data\\\\no_activity.csv\",0, 30000)\n",
    "\n",
    "create_new_csv(\".\\\\processed_data\\\\kishor_jumping.csv\", \".\\\\processed_data\\\\data\\\\kishor_jumping.csv\",1000,10000)\n",
    "create_new_csv(\".\\\\processed_data\\\\nabin_jumping.csv\", \".\\\\processed_data\\\\data\\\\nabin_jumping.csv\",1000,10000)\n",
    "create_new_csv(\".\\\\processed_data\\\\mahesh_jumping.csv\", \".\\\\processed_data\\\\data\\\\mahesh_jumping.csv\",1000,10000)\n",
    "\n",
    "create_new_csv(\".\\\\processed_data\\\\kishor_walking.csv\", \".\\\\processed_data\\\\data\\\\kishor_walking.csv\",1000,10000)\n",
    "create_new_csv(\".\\\\processed_data\\\\nabin_walking.csv\", \".\\\\processed_data\\\\data\\\\nabin_walking.csv\",1000,10000)\n",
    "create_new_csv(\".\\\\processed_data\\\\mahesh_walking.csv\", \".\\\\processed_data\\\\data\\\\mahesh_walking.csv\",1000,10000)\n",
    "\n",
    "create_new_csv(\".\\\\processed_data\\\\kishor_standing.csv\", \".\\\\processed_data\\\\data\\\\kishor_standing.csv\",1000,10000)\n",
    "create_new_csv(\".\\\\processed_data\\\\nabin_standing.csv\", \".\\\\processed_data\\\\data\\\\nabin_standing.csv\",1000,10000)\n",
    "create_new_csv(\".\\\\processed_data\\\\mahesh_standing.csv\", \".\\\\processed_data\\\\data\\\\mahesh_standing.csv\",1000,10000)\n",
    "\n"
   ]
  },
  {
   "cell_type": "code",
   "execution_count": 11,
   "metadata": {},
   "outputs": [],
   "source": [
    "def generate_labels(input_csv, label, output_csv):\n",
    "    df = pd.read_csv(input_csv)\n",
    "\n",
    "    # Get the number of rows\n",
    "    num_rows = len(df)\n",
    "    num_rows=num_rows+1\n",
    "    # Add new columns\n",
    "    new_df = pd.DataFrame({\n",
    "        \"counter\": range(0, num_rows ),\n",
    "        \"label\": [label] * num_rows\n",
    "    })\n",
    "    new_df.to_csv(output_csv, index=False, header=False)\n",
    "\n",
    "    print(f\"New CSV file created successfully with {num_rows} rows!\")\n",
    "\n"
   ]
  },
  {
   "cell_type": "code",
   "execution_count": 12,
   "metadata": {},
   "outputs": [
    {
     "name": "stdout",
     "output_type": "stream",
     "text": [
      "New CSV file created successfully with 30000 rows!\n",
      "New CSV file created successfully with 10000 rows!\n",
      "New CSV file created successfully with 10000 rows!\n",
      "New CSV file created successfully with 10000 rows!\n",
      "New CSV file created successfully with 10000 rows!\n",
      "New CSV file created successfully with 10000 rows!\n",
      "New CSV file created successfully with 10000 rows!\n",
      "New CSV file created successfully with 10000 rows!\n",
      "New CSV file created successfully with 10000 rows!\n",
      "New CSV file created successfully with 10000 rows!\n"
     ]
    }
   ],
   "source": [
    "generate_labels(\".\\\\processed_data\\\\data\\\\no_activity.csv\",\"no_person\" ,\".\\\\processed_data\\\\no_activity_label.csv\")\n",
    "\n",
    "generate_labels(\".\\\\processed_data\\\\data\\\\kishor_jumping.csv\",\"jumping\",\".\\\\processed_data\\\\kishor_jumping_label.csv\")\n",
    "generate_labels(\".\\\\processed_data\\\\data\\\\nabin_jumping.csv\",\"jumping\", \".\\\\processed_data\\\\nabin_jumping_label.csv\")\n",
    "generate_labels(\".\\\\processed_data\\\\data\\\\mahesh_jumping.csv\",\"jumping\", \".\\\\processed_data\\\\mahesh_jumping_label.csv\")\n",
    "\n",
    "generate_labels(\".\\\\processed_data\\\\data\\\\kishor_walking.csv\",\"walking\", \".\\\\processed_data\\\\kishor_walking_label.csv\")\n",
    "generate_labels(\".\\\\processed_data\\\\data\\\\nabin_walking.csv\",\"walking\", \".\\\\processed_data\\\\nabin_walking_label.csv\")\n",
    "generate_labels(\".\\\\processed_data\\\\data\\\\mahesh_walking.csv\",\"walking\", \".\\\\processed_data\\\\mahesh_walking_label.csv\")\n",
    "\n",
    "generate_labels(\".\\\\processed_data\\\\data\\\\kishor_standing.csv\",\"standing\", \".\\\\processed_data\\\\kishor_standing_label.csv\")\n",
    "generate_labels(\".\\\\processed_data\\\\data\\\\nabin_standing.csv\",\"standing\", \".\\\\processed_data\\\\nabin_standing_label.csv\")\n",
    "generate_labels(\".\\\\processed_data\\\\data\\\\mahesh_standing.csv\",\"standing\", \".\\\\processed_data\\\\mahesh_standing_label.csv\")"
   ]
  },
  {
   "cell_type": "code",
   "execution_count": null,
   "metadata": {},
   "outputs": [],
   "source": []
  },
  {
   "cell_type": "code",
   "execution_count": 14,
   "metadata": {},
   "outputs": [],
   "source": [
    "import os\n",
    "import pandas as pd\n",
    "\n",
    "def merge_csv_files(input_directory, output_data_file, output_label_file):\n",
    "    data_files = []\n",
    "    label_files = {}\n",
    "\n",
    "    # Collect all filenames and categorize them\n",
    "    for filename in sorted(os.listdir(input_directory)):  \n",
    "        if filename.endswith('.csv'):\n",
    "            file_path = os.path.join(input_directory, filename)\n",
    "            base_name = filename.replace('_label', '').replace('.csv', '')\n",
    "\n",
    "            if '_label' in filename.lower():\n",
    "                label_files[base_name] = file_path  # Store label file path\n",
    "            else:\n",
    "                data_files.append((base_name, file_path))  # Store data file path\n",
    "\n",
    "    # Ensure order is maintained by matching corresponding data and label files\n",
    "    data_frames = []\n",
    "    label_frames = []\n",
    "    counter_offset = 0\n",
    "\n",
    "    for base_name, data_path in sorted(data_files):  \n",
    "        if base_name in label_files:  # Ensure matching label file exists\n",
    "            label_path = label_files[base_name]\n",
    "\n",
    "            try:\n",
    "                # Read data CSV without headers\n",
    "                data_df = pd.read_csv(data_path, header=None, low_memory=False)\n",
    "                label_df = pd.read_csv(label_path, header=None, low_memory=False)\n",
    "                data_df = data_df.apply(pd.to_numeric, errors='coerce').fillna(0)\n",
    "\n",
    "                # Convert string numbers in data_df to actual floats\n",
    "                for col in data_df.columns:\n",
    "                    data_df[col] = data_df[col].apply(lambda x: pd.to_numeric(x, errors='coerce') if isinstance(x, str) else x)\n",
    "\n",
    "               \n",
    "                # Adjust counter in labels (assuming first column is counter)\n",
    "                if not label_df.empty and pd.api.types.is_numeric_dtype(label_df.iloc[:, 0]):\n",
    "                    label_df.iloc[:, 0] += counter_offset  # Shift counter values\n",
    "                    counter_offset = label_df.iloc[:, 0].max() or 0 + 1  # Update offset\n",
    "\n",
    "                data_frames.append(data_df)\n",
    "                label_frames.append(label_df)\n",
    "\n",
    "            except Exception as e:\n",
    "                print(f\"Error reading {data_path} or {label_path}: {e}\")\n",
    "        else:\n",
    "            print(f\"Warning: No matching label file found for {data_path}\")\n",
    "\n",
    "    # Merge and save files while preserving order\n",
    "    if data_frames:\n",
    "        merged_data = pd.concat(data_frames, axis=0, ignore_index=True)\n",
    "        merged_data.to_csv(output_data_file, index=False, header=False)\n",
    "        print(f\"Data merged into {output_data_file}\")\n",
    "    else:\n",
    "        print(\"No valid data files found.\")\n",
    "\n",
    "    if label_frames:\n",
    "        merged_labels = pd.concat(label_frames, axis=0, ignore_index=True)\n",
    "        merged_labels.to_csv(output_label_file, index=False, header=False)\n",
    "        print(f\"Labels merged into {output_label_file}\")\n",
    "    else:\n",
    "        print(\"No valid label files found.\")\n"
   ]
  },
  {
   "cell_type": "code",
   "execution_count": 15,
   "metadata": {},
   "outputs": [
    {
     "name": "stdout",
     "output_type": "stream",
     "text": [
      "Data merged into merged_data.csv\n",
      "Labels merged into merged_labels.csv\n"
     ]
    }
   ],
   "source": [
    "merge_csv_files('E:\\\\Wifi_based_HAR\\\\preprocessing\\\\processed_data\\\\data', 'merged_data.csv', 'merged_labels.csv')"
   ]
  },
  {
   "cell_type": "code",
   "execution_count": null,
   "metadata": {},
   "outputs": [],
   "source": []
  }
 ],
 "metadata": {
  "kernelspec": {
   "display_name": "venv",
   "language": "python",
   "name": "python3"
  },
  "language_info": {
   "codemirror_mode": {
    "name": "ipython",
    "version": 3
   },
   "file_extension": ".py",
   "mimetype": "text/x-python",
   "name": "python",
   "nbconvert_exporter": "python",
   "pygments_lexer": "ipython3",
   "version": "3.12.3"
  }
 },
 "nbformat": 4,
 "nbformat_minor": 2
}
